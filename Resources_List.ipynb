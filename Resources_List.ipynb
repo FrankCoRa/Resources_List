import pandas as pd
import panel as pn
import plotly.express as px

pn.extension('plotly')

# Load and clean data
df = pd.read_csv("combined_resources_file.csv")

# Define identifying columns
exclude_cols = ["Location Name", "Formal Name", "Max Capacity"]
df.columns = [col.strip() for col in df.columns]  # Strip whitespace from column names

# Identify dummy columns
dummy_columns = [col for col in df.columns if col not in exclude_cols]

# Replace blanks or NaNs in dummy columns with 0 and convert to numeric
df[dummy_columns] = df[dummy_columns].replace(r'^\s*$', 0, regex=True).fillna(0)
df[dummy_columns] = df[dummy_columns].apply(pd.to_numeric, errors='coerce').fillna(0)

# Filter dummy columns to those with non-zero total counts
dummy_columns = [col for col in dummy_columns if df[col].sum() > 0]

# Room feature search with autocomplete (case sensitive)
feature_search = pn.widgets.AutocompleteInput(
    name='Room Feature',
    options=sorted(dummy_columns),
    placeholder='Type exact feature name',
    case_sensitive=True,
    restrict=True
)

# Chart callback
@pn.depends(feature_search)
def update_bar(selected_feature):
    if not selected_feature or selected_feature not in df.columns:
        return pn.pane.Markdown("⚠️ Please select a valid room feature.")

    # Group by Location Name and sum the selected dummy feature
    sum_df = df.groupby("Location Name")[selected_feature].sum().reset_index()
    sum_df.columns = ['Location Name', 'Total']

    # Only include locations with a sum > 0
    sum_df = sum_df[sum_df['Total'] > 0]

    # Assign campus group based on keywords in the location name
    def assign_group(name):
        name_upper = str(name).upper()
        if 'MH' in name_upper or 'MEH' in name_upper or 'VIC' in name_upper:
            return 'DF'
        elif 'BX' in name_upper:
            return 'BX'
        elif 'MT' in name_upper:
            return 'MT'
        else:
            return 'Other'

    sum_df['CampusGroup'] = sum_df['Location Name'].apply(assign_group)

    fig = px.bar(
        sum_df,
        x='Location Name',
        y='Total',
        title=f"Sum of '{selected_feature}' by Location Name",
        labels={'Total': 'Total Count', 'Location Name': 'Location'},
        color='CampusGroup',  # Color by the new campus group
        color_discrete_map={'MH': 'dodgerblue', 'BX': 'seagreen', 'MT': 'goldenrod', 'Other': 'lightgray'}
    )
    fig.update_layout(xaxis_tickangle=45, height=600)

    return pn.pane.Plotly(fig)


# Dashboard layout
dashboard = pn.Column(
    pn.pane.Markdown("## Search for Room Features by Location"),
    feature_search,
    update_bar
)

dashboard.servable()


######## SEARCH GROUPS :        FURNITURE             -            TECHNOLOGY               -            LAB           #################################
