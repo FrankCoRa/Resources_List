import panel as pn
pn.extension()
pn.pane.Markdown("# Hello from Panel").servable()
